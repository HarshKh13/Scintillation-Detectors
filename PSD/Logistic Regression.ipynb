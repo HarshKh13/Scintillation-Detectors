{
 "cells": [
  {
   "cell_type": "code",
   "execution_count": 1,
   "id": "98266585",
   "metadata": {},
   "outputs": [],
   "source": [
    "import numpy as np\n",
    "import matplotlib.pyplot as plt\n",
    "import pandas as pd"
   ]
  },
  {
   "cell_type": "code",
   "execution_count": 33,
   "id": "37b3f81c",
   "metadata": {},
   "outputs": [
    {
     "data": {
      "text/html": [
       "<div>\n",
       "<style scoped>\n",
       "    .dataframe tbody tr th:only-of-type {\n",
       "        vertical-align: middle;\n",
       "    }\n",
       "\n",
       "    .dataframe tbody tr th {\n",
       "        vertical-align: top;\n",
       "    }\n",
       "\n",
       "    .dataframe thead th {\n",
       "        text-align: right;\n",
       "    }\n",
       "</style>\n",
       "<table border=\"1\" class=\"dataframe\">\n",
       "  <thead>\n",
       "    <tr style=\"text-align: right;\">\n",
       "      <th></th>\n",
       "      <th>PulseNo</th>\n",
       "      <th>TotalArea</th>\n",
       "      <th>TailArea</th>\n",
       "      <th>Classification</th>\n",
       "    </tr>\n",
       "  </thead>\n",
       "  <tbody>\n",
       "    <tr>\n",
       "      <th>14790</th>\n",
       "      <td>14791</td>\n",
       "      <td>1048</td>\n",
       "      <td>528</td>\n",
       "      <td>Gamma</td>\n",
       "    </tr>\n",
       "    <tr>\n",
       "      <th>54239</th>\n",
       "      <td>54240</td>\n",
       "      <td>7408</td>\n",
       "      <td>4520</td>\n",
       "      <td>Neutron</td>\n",
       "    </tr>\n",
       "    <tr>\n",
       "      <th>46759</th>\n",
       "      <td>46760</td>\n",
       "      <td>3712</td>\n",
       "      <td>1860</td>\n",
       "      <td>Neutron</td>\n",
       "    </tr>\n",
       "    <tr>\n",
       "      <th>42942</th>\n",
       "      <td>42943</td>\n",
       "      <td>7344</td>\n",
       "      <td>3276</td>\n",
       "      <td>Gamma</td>\n",
       "    </tr>\n",
       "    <tr>\n",
       "      <th>38908</th>\n",
       "      <td>38909</td>\n",
       "      <td>1288</td>\n",
       "      <td>600</td>\n",
       "      <td>Gamma</td>\n",
       "    </tr>\n",
       "  </tbody>\n",
       "</table>\n",
       "</div>"
      ],
      "text/plain": [
       "       PulseNo  TotalArea  TailArea Classification\n",
       "14790    14791       1048       528          Gamma\n",
       "54239    54240       7408      4520        Neutron\n",
       "46759    46760       3712      1860        Neutron\n",
       "42942    42943       7344      3276          Gamma\n",
       "38908    38909       1288       600          Gamma"
      ]
     },
     "execution_count": 33,
     "metadata": {},
     "output_type": "execute_result"
    }
   ],
   "source": [
    "path = 'traindats.csv'\n",
    "data = pd.read_csv(path)\n",
    "data = data.sample(frac = 1)\n",
    "data.head()"
   ]
  },
  {
   "cell_type": "code",
   "execution_count": 34,
   "id": "2394875a",
   "metadata": {},
   "outputs": [
    {
     "data": {
      "text/html": [
       "<div>\n",
       "<style scoped>\n",
       "    .dataframe tbody tr th:only-of-type {\n",
       "        vertical-align: middle;\n",
       "    }\n",
       "\n",
       "    .dataframe tbody tr th {\n",
       "        vertical-align: top;\n",
       "    }\n",
       "\n",
       "    .dataframe thead th {\n",
       "        text-align: right;\n",
       "    }\n",
       "</style>\n",
       "<table border=\"1\" class=\"dataframe\">\n",
       "  <thead>\n",
       "    <tr style=\"text-align: right;\">\n",
       "      <th></th>\n",
       "      <th>PulseNo</th>\n",
       "      <th>TotalArea</th>\n",
       "      <th>TailArea</th>\n",
       "      <th>Classification_encod</th>\n",
       "    </tr>\n",
       "  </thead>\n",
       "  <tbody>\n",
       "    <tr>\n",
       "      <th>14790</th>\n",
       "      <td>14791</td>\n",
       "      <td>1048</td>\n",
       "      <td>528</td>\n",
       "      <td>0</td>\n",
       "    </tr>\n",
       "    <tr>\n",
       "      <th>54239</th>\n",
       "      <td>54240</td>\n",
       "      <td>7408</td>\n",
       "      <td>4520</td>\n",
       "      <td>1</td>\n",
       "    </tr>\n",
       "    <tr>\n",
       "      <th>46759</th>\n",
       "      <td>46760</td>\n",
       "      <td>3712</td>\n",
       "      <td>1860</td>\n",
       "      <td>1</td>\n",
       "    </tr>\n",
       "    <tr>\n",
       "      <th>42942</th>\n",
       "      <td>42943</td>\n",
       "      <td>7344</td>\n",
       "      <td>3276</td>\n",
       "      <td>0</td>\n",
       "    </tr>\n",
       "    <tr>\n",
       "      <th>38908</th>\n",
       "      <td>38909</td>\n",
       "      <td>1288</td>\n",
       "      <td>600</td>\n",
       "      <td>0</td>\n",
       "    </tr>\n",
       "  </tbody>\n",
       "</table>\n",
       "</div>"
      ],
      "text/plain": [
       "       PulseNo  TotalArea  TailArea  Classification_encod\n",
       "14790    14791       1048       528                     0\n",
       "54239    54240       7408      4520                     1\n",
       "46759    46760       3712      1860                     1\n",
       "42942    42943       7344      3276                     0\n",
       "38908    38909       1288       600                     0"
      ]
     },
     "execution_count": 34,
     "metadata": {},
     "output_type": "execute_result"
    }
   ],
   "source": [
    "from sklearn.preprocessing import LabelEncoder\n",
    "lab_encod = LabelEncoder()\n",
    "data['Classification_encod'] = lab_encod.fit_transform(data['Classification'])\n",
    "data = data.drop(['Classification'],axis = 'columns')\n",
    "data.head()"
   ]
  },
  {
   "cell_type": "code",
   "execution_count": 4,
   "id": "d6f99b45",
   "metadata": {},
   "outputs": [
    {
     "data": {
      "text/html": [
       "<div>\n",
       "<style scoped>\n",
       "    .dataframe tbody tr th:only-of-type {\n",
       "        vertical-align: middle;\n",
       "    }\n",
       "\n",
       "    .dataframe tbody tr th {\n",
       "        vertical-align: top;\n",
       "    }\n",
       "\n",
       "    .dataframe thead th {\n",
       "        text-align: right;\n",
       "    }\n",
       "</style>\n",
       "<table border=\"1\" class=\"dataframe\">\n",
       "  <thead>\n",
       "    <tr style=\"text-align: right;\">\n",
       "      <th></th>\n",
       "      <th>PulseNo</th>\n",
       "      <th>TotalArea</th>\n",
       "      <th>TailArea</th>\n",
       "      <th>Classification_encod</th>\n",
       "    </tr>\n",
       "  </thead>\n",
       "  <tbody>\n",
       "    <tr>\n",
       "      <th>count</th>\n",
       "      <td>58121.000000</td>\n",
       "      <td>58121.000000</td>\n",
       "      <td>58121.000000</td>\n",
       "      <td>58121.000000</td>\n",
       "    </tr>\n",
       "    <tr>\n",
       "      <th>mean</th>\n",
       "      <td>29061.000000</td>\n",
       "      <td>3117.004112</td>\n",
       "      <td>1576.998039</td>\n",
       "      <td>0.256534</td>\n",
       "    </tr>\n",
       "    <tr>\n",
       "      <th>std</th>\n",
       "      <td>16778.231835</td>\n",
       "      <td>2700.726389</td>\n",
       "      <td>1460.522697</td>\n",
       "      <td>0.436724</td>\n",
       "    </tr>\n",
       "    <tr>\n",
       "      <th>min</th>\n",
       "      <td>1.000000</td>\n",
       "      <td>320.000000</td>\n",
       "      <td>96.000000</td>\n",
       "      <td>0.000000</td>\n",
       "    </tr>\n",
       "    <tr>\n",
       "      <th>25%</th>\n",
       "      <td>14531.000000</td>\n",
       "      <td>1120.000000</td>\n",
       "      <td>556.000000</td>\n",
       "      <td>0.000000</td>\n",
       "    </tr>\n",
       "    <tr>\n",
       "      <th>50%</th>\n",
       "      <td>29061.000000</td>\n",
       "      <td>1968.000000</td>\n",
       "      <td>952.000000</td>\n",
       "      <td>0.000000</td>\n",
       "    </tr>\n",
       "    <tr>\n",
       "      <th>75%</th>\n",
       "      <td>43591.000000</td>\n",
       "      <td>4400.000000</td>\n",
       "      <td>2188.000000</td>\n",
       "      <td>1.000000</td>\n",
       "    </tr>\n",
       "    <tr>\n",
       "      <th>max</th>\n",
       "      <td>58121.000000</td>\n",
       "      <td>23270.000000</td>\n",
       "      <td>14714.000000</td>\n",
       "      <td>1.000000</td>\n",
       "    </tr>\n",
       "  </tbody>\n",
       "</table>\n",
       "</div>"
      ],
      "text/plain": [
       "            PulseNo     TotalArea      TailArea  Classification_encod\n",
       "count  58121.000000  58121.000000  58121.000000          58121.000000\n",
       "mean   29061.000000   3117.004112   1576.998039              0.256534\n",
       "std    16778.231835   2700.726389   1460.522697              0.436724\n",
       "min        1.000000    320.000000     96.000000              0.000000\n",
       "25%    14531.000000   1120.000000    556.000000              0.000000\n",
       "50%    29061.000000   1968.000000    952.000000              0.000000\n",
       "75%    43591.000000   4400.000000   2188.000000              1.000000\n",
       "max    58121.000000  23270.000000  14714.000000              1.000000"
      ]
     },
     "execution_count": 4,
     "metadata": {},
     "output_type": "execute_result"
    }
   ],
   "source": [
    "data.describe()"
   ]
  },
  {
   "cell_type": "code",
   "execution_count": 5,
   "id": "8ad07118",
   "metadata": {},
   "outputs": [],
   "source": [
    "x1 = data['TotalArea']\n",
    "x2 = data['TailArea']\n",
    "y = data['Classification_encod']"
   ]
  },
  {
   "cell_type": "code",
   "execution_count": 6,
   "id": "9016b201",
   "metadata": {},
   "outputs": [
    {
     "data": {
      "image/png": "[encoded data removed]",
      "text/plain": [
       "<Figure size 432x288 with 1 Axes>"
      ]
     },
     "metadata": {
      "needs_background": "light"
     },
     "output_type": "display_data"
    }
   ],
   "source": [
    "#plot of classification against total area\n",
    "plt.scatter(x1,y,color = 'blue')\n",
    "plt.xlabel('Total Area')\n",
    "plt.ylabel('Classification')\n",
    "plt.title('Classification plot against total area')\n",
    "plt.show()"
   ]
  },
  {
   "cell_type": "code",
   "execution_count": 7,
   "id": "ed6d5e1f",
   "metadata": {},
   "outputs": [
    {
     "data": {
      "image/png": "[encoded data removed]",
      "text/plain": [
       "<Figure size 432x288 with 1 Axes>"
      ]
     },
     "metadata": {
      "needs_background": "light"
     },
     "output_type": "display_data"
    }
   ],
   "source": [
    "#plot of classification against tail area\n",
    "plt.scatter(x2,y,color = 'blue')\n",
    "plt.xlabel('Tail Area')\n",
    "plt.ylabel('Classification')\n",
    "plt.title('Classification plot against tail area')\n",
    "plt.show()"
   ]
  },
  {
   "cell_type": "code",
   "execution_count": 8,
   "id": "4259a14e",
   "metadata": {},
   "outputs": [
    {
     "data": {
      "image/png": "[encoded data removed]",
      "text/plain": [
       "<Figure size 720x576 with 1 Axes>"
      ]
     },
     "metadata": {
      "needs_background": "light"
     },
     "output_type": "display_data"
    }
   ],
   "source": [
    "f = plt.figure()\n",
    "f.set_figwidth(10)\n",
    "f.set_figheight(8)\n",
    "plt.scatter(data['TotalArea'][data.Classification_encod==1],\n",
    "            data['TailArea'][data.Classification_encod==1],\n",
    "            marker = 'D',\n",
    "            color = 'red',\n",
    "            label = 'Neutron')\n",
    "plt.scatter(data['TotalArea'][data.Classification_encod==0],\n",
    "            data['TailArea'][data.Classification_encod==0],\n",
    "            marker = 'o',\n",
    "            color = 'blue',\n",
    "            label = 'Gamma')\n",
    "plt.xlabel('TotalArea')\n",
    "plt.ylabel('TailArea')\n",
    "plt.title('Entire plot')\n",
    "plt.legend(loc = 'lower right')\n",
    "plt.show()"
   ]
  },
  {
   "cell_type": "code",
   "execution_count": 9,
   "id": "3851d1ca",
   "metadata": {},
   "outputs": [],
   "source": [
    "#Classification  using Logistic Regression\n",
    "import statsmodels.api as sm\n",
    "from sklearn.preprocessing import StandardScaler\n",
    "x = data.iloc[:,1:]\n",
    "x = x.drop(['Classification_encod'],axis = 'columns')\n",
    "y = data.iloc[:,-1]\n",
    "scaler = StandardScaler()\n",
    "x = scaler.fit_transform(x)\n",
    "x = pd.DataFrame(x,columns = ['TotalArea','TailArea'])\n",
    "x = x.values\n",
    "y = y.values"
   ]
  },
  {
   "cell_type": "code",
   "execution_count": 10,
   "id": "03717717",
   "metadata": {},
   "outputs": [
    {
     "name": "stdout",
     "output_type": "stream",
     "text": [
      "(58121, 2)\n",
      "(58121,)\n"
     ]
    }
   ],
   "source": [
    "print(x.shape)\n",
    "print(y.shape)"
   ]
  },
  {
   "cell_type": "code",
   "execution_count": 11,
   "id": "23fcf1a6",
   "metadata": {},
   "outputs": [
    {
     "name": "stdout",
     "output_type": "stream",
     "text": [
      "[[-7.57211731e-01 -6.82636852e-01]\n",
      " [-7.39438582e-01 -8.00403922e-01]\n",
      " [-5.79480240e-01 -5.12833168e-01]\n",
      " [-8.63850626e-01 -7.67538693e-01]\n",
      " [-8.90510350e-01 -8.14097768e-01]\n",
      " [ 6.43904860e-01  9.46930755e-01]\n",
      " [ 3.09177218e-01 -6.83349299e-04]\n",
      " [ 7.81262789e-02  4.31369561e-02]\n",
      " [ 2.97218740e+00  3.19546017e+00]\n",
      " [-2.41790406e-01 -4.00543636e-01]]\n"
     ]
    }
   ],
   "source": [
    "print(x[:10])"
   ]
  },
  {
   "cell_type": "code",
   "execution_count": 12,
   "id": "34490a75",
   "metadata": {},
   "outputs": [
    {
     "name": "stdout",
     "output_type": "stream",
     "text": [
      "Training data shape (43590, 2)\n",
      "Test data shape (14531, 2)\n"
     ]
    }
   ],
   "source": [
    "from sklearn.model_selection import train_test_split\n",
    "from sklearn.linear_model import LogisticRegression\n",
    "x_train,x_test,y_train,y_test = train_test_split(x,y,test_size = 0.25,\n",
    "                                                 random_state = 42)\n",
    "print(\"Training data shape\",x_train.shape)\n",
    "print(\"Test data shape\",x_test.shape)"
   ]
  },
  {
   "cell_type": "code",
   "execution_count": 13,
   "id": "5e58b08c",
   "metadata": {},
   "outputs": [
    {
     "name": "stdout",
     "output_type": "stream",
     "text": [
      "[0 0 0 0 0 1 0 1 0 0]\n"
     ]
    }
   ],
   "source": [
    "log_reg = LogisticRegression()\n",
    "log_reg.fit(x_train,y_train.ravel())\n",
    "y_pred = log_reg.predict(x_test)\n",
    "print(y_pred[:10])"
   ]
  },
  {
   "cell_type": "code",
   "execution_count": 14,
   "id": "8ac684d0",
   "metadata": {},
   "outputs": [
    {
     "name": "stdout",
     "output_type": "stream",
     "text": [
      "<class 'numpy.ndarray'>\n",
      "<class 'numpy.ndarray'>\n"
     ]
    }
   ],
   "source": [
    "print(type(y_pred))\n",
    "print(type(y_test))"
   ]
  },
  {
   "cell_type": "code",
   "execution_count": 15,
   "id": "e0c71f81",
   "metadata": {},
   "outputs": [
    {
     "name": "stdout",
     "output_type": "stream",
     "text": [
      "Accuracy 0.968825270112174\n"
     ]
    }
   ],
   "source": [
    "from sklearn.metrics import accuracy_score\n",
    "accuracy = accuracy_score(y_pred,y_test)\n",
    "print(\"Accuracy\",accuracy)"
   ]
  },
  {
   "cell_type": "code",
   "execution_count": 16,
   "id": "b99695f2",
   "metadata": {},
   "outputs": [
    {
     "name": "stdout",
     "output_type": "stream",
     "text": [
      "[[10795     5]\n",
      " [  448  3283]]\n"
     ]
    }
   ],
   "source": [
    "from sklearn.metrics import confusion_matrix\n",
    "print(confusion_matrix(y_test,y_pred))"
   ]
  },
  {
   "cell_type": "code",
   "execution_count": 17,
   "id": "80894eba",
   "metadata": {},
   "outputs": [
    {
     "name": "stdout",
     "output_type": "stream",
     "text": [
      "              precision    recall  f1-score   support\n",
      "\n",
      "           0       1.00      0.96      0.98     11243\n",
      "           1       0.88      1.00      0.94      3288\n",
      "\n",
      "    accuracy                           0.97     14531\n",
      "   macro avg       0.94      0.98      0.96     14531\n",
      "weighted avg       0.97      0.97      0.97     14531\n",
      "\n"
     ]
    }
   ],
   "source": [
    "from sklearn.metrics import classification_report\n",
    "print(classification_report(y_pred,y_test))"
   ]
  },
  {
   "cell_type": "code",
   "execution_count": 18,
   "id": "c2d59b84",
   "metadata": {},
   "outputs": [
    {
     "name": "stdout",
     "output_type": "stream",
     "text": [
      "[4.27574164e-04 1.00000000e+00 1.00000000e+00 5.51532853e-05\n",
      " 7.02354444e-03 1.30760902e-02 9.99992173e-01 3.86595180e-03\n",
      " 7.38509632e-03 1.00000000e+00 1.00000000e+00 4.05920342e-03\n",
      " 3.51254820e-03 1.78622413e-12 4.57706310e-03 7.52525189e-03\n",
      " 1.21385495e-01 4.45068503e-01 1.80772253e-02 2.49992740e-03]\n"
     ]
    }
   ],
   "source": [
    "y_prob_train = log_reg.predict_proba(x_train)[:,1]\n",
    "y_prob_train.reshape(1,-1)\n",
    "print(y_prob_train[:20])"
   ]
  },
  {
   "cell_type": "code",
   "execution_count": 19,
   "id": "6681b5e7",
   "metadata": {},
   "outputs": [
    {
     "name": "stdout",
     "output_type": "stream",
     "text": [
      "[1.58504063e-02 5.97299420e-03 4.99236655e-01 2.86779986e-02\n",
      " 4.69972050e-02 1.00000000e+00 2.27669918e-02 9.99999910e-01\n",
      " 6.24137130e-03 8.68666793e-05 9.99999958e-01 6.16649793e-02\n",
      " 7.74204513e-04 5.90922823e-02 2.61660980e-03 3.59376976e-03\n",
      " 9.99997815e-01 1.01365418e-01 7.21864507e-02 7.65887296e-03]\n"
     ]
    }
   ],
   "source": [
    "y_prob_test = log_reg.predict_proba(x_test)[:,1]\n",
    "y_prob_test.reshape(1,-1)\n",
    "print(y_prob_test[:20])"
   ]
  },
  {
   "cell_type": "code",
   "execution_count": 20,
   "id": "a1e1c35c",
   "metadata": {},
   "outputs": [],
   "source": [
    "#ROC curve\n",
    "from sklearn.metrics import roc_auc_score\n",
    "from sklearn.metrics import roc_curve, auc\n",
    "fpr,tpr,thresholds = roc_curve(y_train,y_prob_train)\n",
    "roc_auc = auc(fpr,tpr)"
   ]
  },
  {
   "cell_type": "code",
   "execution_count": 21,
   "id": "0520bffe",
   "metadata": {},
   "outputs": [
    {
     "data": {
      "image/png": "[encoded data removed]",
      "text/plain": [
       "<Figure size 432x288 with 1 Axes>"
      ]
     },
     "metadata": {
      "needs_background": "light"
     },
     "output_type": "display_data"
    }
   ],
   "source": [
    "plt.figure()\n",
    "plt.plot(fpr,tpr,color='blue',label = 'ROC curve (area = %0.2f)'%roc_auc)\n",
    "plt.plot([0,1],[0,1],color = 'red')\n",
    "plt.xlim([-0.05,1.0])\n",
    "plt.ylim([0.0,1.05])\n",
    "plt.xlabel('False positive rate')\n",
    "plt.ylabel('True positive rate')\n",
    "plt.title(\"ROC curve for training data\")\n",
    "plt.legend(loc = 'lower right')\n",
    "plt.show()"
   ]
  },
  {
   "cell_type": "code",
   "execution_count": 22,
   "id": "af701368",
   "metadata": {},
   "outputs": [
    {
     "data": {
      "image/png": "[encoded data removed]",
      "text/plain": [
       "<Figure size 432x288 with 1 Axes>"
      ]
     },
     "metadata": {
      "needs_background": "light"
     },
     "output_type": "display_data"
    }
   ],
   "source": [
    "fpr,tpr,thresholds = roc_curve(y_test,y_prob_test)\n",
    "roc_auc = auc(fpr,tpr)\n",
    "\n",
    "plt.figure()\n",
    "plt.plot(fpr,tpr,color='blue',label = 'ROC curve (area = %0.2f)'%roc_auc)\n",
    "plt.plot([0,1],[0,1],color = 'red')\n",
    "plt.xlim([-0.05,1.0])\n",
    "plt.ylim([0.0,1.05])\n",
    "plt.xlabel('False positive rate')\n",
    "plt.ylabel('True positive rate')\n",
    "plt.title(\"ROC curve for training data\")\n",
    "plt.legend(loc = 'lower right')\n",
    "plt.show()"
   ]
  },
  {
   "cell_type": "code",
   "execution_count": 23,
   "id": "7218ed96",
   "metadata": {},
   "outputs": [
    {
     "data": {
      "text/html": [
       "<div>\n",
       "<style scoped>\n",
       "    .dataframe tbody tr th:only-of-type {\n",
       "        vertical-align: middle;\n",
       "    }\n",
       "\n",
       "    .dataframe tbody tr th {\n",
       "        vertical-align: top;\n",
       "    }\n",
       "\n",
       "    .dataframe thead th {\n",
       "        text-align: right;\n",
       "    }\n",
       "</style>\n",
       "<table border=\"1\" class=\"dataframe\">\n",
       "  <thead>\n",
       "    <tr style=\"text-align: right;\">\n",
       "      <th></th>\n",
       "      <th>fpr</th>\n",
       "      <th>tpr</th>\n",
       "      <th>1-fpr</th>\n",
       "      <th>tf</th>\n",
       "      <th>thresholds</th>\n",
       "    </tr>\n",
       "  </thead>\n",
       "  <tbody>\n",
       "    <tr>\n",
       "      <th>0</th>\n",
       "      <td>0.0</td>\n",
       "      <td>0.000000</td>\n",
       "      <td>1.0</td>\n",
       "      <td>-1.000000</td>\n",
       "      <td>2.0</td>\n",
       "    </tr>\n",
       "    <tr>\n",
       "      <th>1</th>\n",
       "      <td>0.0</td>\n",
       "      <td>0.055749</td>\n",
       "      <td>1.0</td>\n",
       "      <td>-0.944251</td>\n",
       "      <td>1.0</td>\n",
       "    </tr>\n",
       "    <tr>\n",
       "      <th>2</th>\n",
       "      <td>0.0</td>\n",
       "      <td>0.067810</td>\n",
       "      <td>1.0</td>\n",
       "      <td>-0.932190</td>\n",
       "      <td>1.0</td>\n",
       "    </tr>\n",
       "    <tr>\n",
       "      <th>3</th>\n",
       "      <td>0.0</td>\n",
       "      <td>0.072367</td>\n",
       "      <td>1.0</td>\n",
       "      <td>-0.927633</td>\n",
       "      <td>1.0</td>\n",
       "    </tr>\n",
       "    <tr>\n",
       "      <th>4</th>\n",
       "      <td>0.0</td>\n",
       "      <td>0.077995</td>\n",
       "      <td>1.0</td>\n",
       "      <td>-0.922005</td>\n",
       "      <td>1.0</td>\n",
       "    </tr>\n",
       "  </tbody>\n",
       "</table>\n",
       "</div>"
      ],
      "text/plain": [
       "   fpr       tpr  1-fpr        tf  thresholds\n",
       "0  0.0  0.000000    1.0 -1.000000         2.0\n",
       "1  0.0  0.055749    1.0 -0.944251         1.0\n",
       "2  0.0  0.067810    1.0 -0.932190         1.0\n",
       "3  0.0  0.072367    1.0 -0.927633         1.0\n",
       "4  0.0  0.077995    1.0 -0.922005         1.0"
      ]
     },
     "execution_count": 23,
     "metadata": {},
     "output_type": "execute_result"
    }
   ],
   "source": [
    "fpr,tpr,thresholds = roc_curve(y_test,y_prob_test)\n",
    "indices = np.arange(len(fpr))\n",
    "df_roc = pd.DataFrame({'fpr':pd.Series(fpr,indices),'tpr':pd.Series(tpr,indices),\n",
    "                       '1-fpr':pd.Series(1-fpr,indices),\n",
    "                       'tf':pd.Series(tpr-(1-fpr),indices),\n",
    "                       'thresholds':pd.Series(thresholds,indices)})\n",
    "df_roc.head()"
   ]
  },
  {
   "cell_type": "code",
   "execution_count": 24,
   "id": "01307e1f",
   "metadata": {},
   "outputs": [
    {
     "data": {
      "text/html": [
       "<div>\n",
       "<style scoped>\n",
       "    .dataframe tbody tr th:only-of-type {\n",
       "        vertical-align: middle;\n",
       "    }\n",
       "\n",
       "    .dataframe tbody tr th {\n",
       "        vertical-align: top;\n",
       "    }\n",
       "\n",
       "    .dataframe thead th {\n",
       "        text-align: right;\n",
       "    }\n",
       "</style>\n",
       "<table border=\"1\" class=\"dataframe\">\n",
       "  <thead>\n",
       "    <tr style=\"text-align: right;\">\n",
       "      <th></th>\n",
       "      <th>fpr</th>\n",
       "      <th>tpr</th>\n",
       "      <th>1-fpr</th>\n",
       "      <th>tf</th>\n",
       "      <th>thresholds</th>\n",
       "    </tr>\n",
       "  </thead>\n",
       "  <tbody>\n",
       "    <tr>\n",
       "      <th>413</th>\n",
       "      <td>0.011852</td>\n",
       "      <td>0.987939</td>\n",
       "      <td>0.988148</td>\n",
       "      <td>-0.000209</td>\n",
       "      <td>0.314216</td>\n",
       "    </tr>\n",
       "  </tbody>\n",
       "</table>\n",
       "</div>"
      ],
      "text/plain": [
       "          fpr       tpr     1-fpr        tf  thresholds\n",
       "413  0.011852  0.987939  0.988148 -0.000209    0.314216"
      ]
     },
     "execution_count": 24,
     "metadata": {},
     "output_type": "execute_result"
    }
   ],
   "source": [
    "df_roc.iloc[(df_roc.tf-0).abs().argsort()[:1]]"
   ]
  },
  {
   "cell_type": "code",
   "execution_count": 25,
   "id": "c2455e1f",
   "metadata": {},
   "outputs": [
    {
     "data": {
      "image/png": "[encoded data removed]",
      "text/plain": [
       "<Figure size 432x288 with 1 Axes>"
      ]
     },
     "metadata": {
      "needs_background": "light"
     },
     "output_type": "display_data"
    }
   ],
   "source": [
    "fig,ax = plt.subplots()\n",
    "plt.plot(df_roc['tpr'],color = 'blue')\n",
    "plt.plot(df_roc['1-fpr'],color = 'red')\n",
    "plt.xlabel('1-False positive rate')\n",
    "plt.ylabel('True positive rate')\n",
    "plt.title('ROC curve')\n",
    "plt.show()"
   ]
  },
  {
   "cell_type": "code",
   "execution_count": 26,
   "id": "3706a48c",
   "metadata": {},
   "outputs": [
    {
     "name": "stdout",
     "output_type": "stream",
     "text": [
      "[0. 0. 1. 0. 0. 1. 0. 1. 0. 0. 1. 0. 0. 0. 0. 0. 1. 0. 0. 0.]\n"
     ]
    },
    {
     "name": "stderr",
     "output_type": "stream",
     "text": [
      "C:\\Users\\harsh\\anaconda3\\lib\\site-packages\\sklearn\\utils\\validation.py:70: FutureWarning: Pass threshold=0.31621 as keyword args. From version 1.0 (renaming of 0.25) passing these as positional arguments will result in an error\n",
      "  warnings.warn(f\"Pass {args_msg} as keyword args. From version \"\n"
     ]
    }
   ],
   "source": [
    "#Classification using optimal threshold value\n",
    "from sklearn.preprocessing import binarize\n",
    "opt_thresh = 0.31621\n",
    "y_pred = binarize(y_prob_test.reshape(1,-1), opt_thresh)[0]\n",
    "print(y_pred[:20])"
   ]
  },
  {
   "cell_type": "code",
   "execution_count": 27,
   "id": "02fd9621",
   "metadata": {},
   "outputs": [
    {
     "name": "stdout",
     "output_type": "stream",
     "text": [
      "[[10674   126]\n",
      " [   51  3680]]\n"
     ]
    }
   ],
   "source": [
    "confusion_mat = confusion_matrix(y_test,y_pred)\n",
    "print(confusion_mat)"
   ]
  },
  {
   "cell_type": "code",
   "execution_count": 28,
   "id": "2cfe4065",
   "metadata": {},
   "outputs": [
    {
     "name": "stdout",
     "output_type": "stream",
     "text": [
      "              precision    recall  f1-score   support\n",
      "\n",
      "           0       1.00      0.99      0.99     10800\n",
      "           1       0.97      0.99      0.98      3731\n",
      "\n",
      "    accuracy                           0.99     14531\n",
      "   macro avg       0.98      0.99      0.98     14531\n",
      "weighted avg       0.99      0.99      0.99     14531\n",
      "\n"
     ]
    }
   ],
   "source": [
    "classification_repo = classification_report(y_test,y_pred)\n",
    "print(classification_repo)"
   ]
  },
  {
   "cell_type": "code",
   "execution_count": 29,
   "id": "0f7bb087",
   "metadata": {},
   "outputs": [
    {
     "name": "stdout",
     "output_type": "stream",
     "text": [
      "Accuracy Score using Logistic Regression 0.9878191452756176\n"
     ]
    }
   ],
   "source": [
    "accuracy_logit = accuracy_score(y_pred,y_test)\n",
    "print(\"Accuracy Score using Logistic Regression\",accuracy_logit)"
   ]
  }
 ],
 "metadata": {
  "kernelspec": {
   "display_name": "Python 3",
   "language": "python",
   "name": "python3"
  },
  "language_info": {
   "codemirror_mode": {
    "name": "ipython",
    "version": 3
   },
   "file_extension": ".py",
   "mimetype": "text/x-python",
   "name": "python",
   "nbconvert_exporter": "python",
   "pygments_lexer": "ipython3",
   "version": "3.8.8"
  }
 },
 "nbformat": 4,
 "nbformat_minor": 5
}
