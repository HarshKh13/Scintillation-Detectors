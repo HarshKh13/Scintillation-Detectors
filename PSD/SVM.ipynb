{
 "cells": [
  {
   "cell_type": "code",
   "execution_count": 1,
   "id": "f8584488",
   "metadata": {},
   "outputs": [],
   "source": [
    "import numpy as np\n",
    "import matplotlib.pyplot as plt\n",
    "import pandas as pd\n",
    "from sklearn.preprocessing import StandardScaler\n",
    "from sklearn.model_selection import train_test_split"
   ]
  },
  {
   "cell_type": "code",
   "execution_count": 2,
   "id": "191b6baa",
   "metadata": {},
   "outputs": [
    {
     "data": {
      "text/html": [
       "<div>\n",
       "<style scoped>\n",
       "    .dataframe tbody tr th:only-of-type {\n",
       "        vertical-align: middle;\n",
       "    }\n",
       "\n",
       "    .dataframe tbody tr th {\n",
       "        vertical-align: top;\n",
       "    }\n",
       "\n",
       "    .dataframe thead th {\n",
       "        text-align: right;\n",
       "    }\n",
       "</style>\n",
       "<table border=\"1\" class=\"dataframe\">\n",
       "  <thead>\n",
       "    <tr style=\"text-align: right;\">\n",
       "      <th></th>\n",
       "      <th>PulseNo</th>\n",
       "      <th>TotalArea</th>\n",
       "      <th>TailArea</th>\n",
       "      <th>Classification</th>\n",
       "    </tr>\n",
       "  </thead>\n",
       "  <tbody>\n",
       "    <tr>\n",
       "      <th>0</th>\n",
       "      <td>1</td>\n",
       "      <td>7616</td>\n",
       "      <td>4568</td>\n",
       "      <td>Neutron</td>\n",
       "    </tr>\n",
       "    <tr>\n",
       "      <th>1</th>\n",
       "      <td>2</td>\n",
       "      <td>7616</td>\n",
       "      <td>4584</td>\n",
       "      <td>Neutron</td>\n",
       "    </tr>\n",
       "    <tr>\n",
       "      <th>2</th>\n",
       "      <td>3</td>\n",
       "      <td>7616</td>\n",
       "      <td>4860</td>\n",
       "      <td>Neutron</td>\n",
       "    </tr>\n",
       "    <tr>\n",
       "      <th>3</th>\n",
       "      <td>4</td>\n",
       "      <td>7616</td>\n",
       "      <td>4548</td>\n",
       "      <td>Neutron</td>\n",
       "    </tr>\n",
       "    <tr>\n",
       "      <th>4</th>\n",
       "      <td>5</td>\n",
       "      <td>7616</td>\n",
       "      <td>4344</td>\n",
       "      <td>Neutron</td>\n",
       "    </tr>\n",
       "  </tbody>\n",
       "</table>\n",
       "</div>"
      ],
      "text/plain": [
       "   PulseNo  TotalArea  TailArea Classification\n",
       "0        1       7616      4568        Neutron\n",
       "1        2       7616      4584        Neutron\n",
       "2        3       7616      4860        Neutron\n",
       "3        4       7616      4548        Neutron\n",
       "4        5       7616      4344        Neutron"
      ]
     },
     "execution_count": 2,
     "metadata": {},
     "output_type": "execute_result"
    }
   ],
   "source": [
    "path = 'traindats.csv'\n",
    "data = pd.read_csv(path)\n",
    "data.head()"
   ]
  },
  {
   "cell_type": "code",
   "execution_count": 3,
   "id": "e9499330",
   "metadata": {},
   "outputs": [
    {
     "data": {
      "text/html": [
       "<div>\n",
       "<style scoped>\n",
       "    .dataframe tbody tr th:only-of-type {\n",
       "        vertical-align: middle;\n",
       "    }\n",
       "\n",
       "    .dataframe tbody tr th {\n",
       "        vertical-align: top;\n",
       "    }\n",
       "\n",
       "    .dataframe thead th {\n",
       "        text-align: right;\n",
       "    }\n",
       "</style>\n",
       "<table border=\"1\" class=\"dataframe\">\n",
       "  <thead>\n",
       "    <tr style=\"text-align: right;\">\n",
       "      <th></th>\n",
       "      <th>PulseNo</th>\n",
       "      <th>TotalArea</th>\n",
       "      <th>TailArea</th>\n",
       "      <th>Classification_encod</th>\n",
       "    </tr>\n",
       "  </thead>\n",
       "  <tbody>\n",
       "    <tr>\n",
       "      <th>0</th>\n",
       "      <td>1</td>\n",
       "      <td>7616</td>\n",
       "      <td>4568</td>\n",
       "      <td>1</td>\n",
       "    </tr>\n",
       "    <tr>\n",
       "      <th>1</th>\n",
       "      <td>2</td>\n",
       "      <td>7616</td>\n",
       "      <td>4584</td>\n",
       "      <td>1</td>\n",
       "    </tr>\n",
       "    <tr>\n",
       "      <th>2</th>\n",
       "      <td>3</td>\n",
       "      <td>7616</td>\n",
       "      <td>4860</td>\n",
       "      <td>1</td>\n",
       "    </tr>\n",
       "    <tr>\n",
       "      <th>3</th>\n",
       "      <td>4</td>\n",
       "      <td>7616</td>\n",
       "      <td>4548</td>\n",
       "      <td>1</td>\n",
       "    </tr>\n",
       "    <tr>\n",
       "      <th>4</th>\n",
       "      <td>5</td>\n",
       "      <td>7616</td>\n",
       "      <td>4344</td>\n",
       "      <td>1</td>\n",
       "    </tr>\n",
       "  </tbody>\n",
       "</table>\n",
       "</div>"
      ],
      "text/plain": [
       "   PulseNo  TotalArea  TailArea  Classification_encod\n",
       "0        1       7616      4568                     1\n",
       "1        2       7616      4584                     1\n",
       "2        3       7616      4860                     1\n",
       "3        4       7616      4548                     1\n",
       "4        5       7616      4344                     1"
      ]
     },
     "execution_count": 3,
     "metadata": {},
     "output_type": "execute_result"
    }
   ],
   "source": [
    "from sklearn.preprocessing import LabelEncoder\n",
    "lab_encod = LabelEncoder()\n",
    "data['Classification_encod'] = lab_encod.fit_transform(data['Classification'])\n",
    "data = data.drop(['Classification'],axis = 'columns')\n",
    "data.head()"
   ]
  },
  {
   "cell_type": "code",
   "execution_count": 4,
   "id": "2ed573c9",
   "metadata": {},
   "outputs": [
    {
     "name": "stdout",
     "output_type": "stream",
     "text": [
      "Training data shape (43590, 2)\n",
      "Test data shape (14531, 2)\n"
     ]
    }
   ],
   "source": [
    "x = data.iloc[:,1:]\n",
    "x = x.drop(['Classification_encod'],axis = 'columns')\n",
    "y = data.iloc[:,-1]\n",
    "scaler = StandardScaler()\n",
    "x = scaler.fit_transform(x)\n",
    "x = pd.DataFrame(x,columns = ['TotalArea','TailArea'])\n",
    "x = x.values\n",
    "y = y.values\n",
    "\n",
    "x_train,x_test,y_train,y_test = train_test_split(x,y,test_size = 0.25,\n",
    "                                                 random_state = 42)\n",
    "print(\"Training data shape\",x_train.shape)\n",
    "print(\"Test data shape\",x_test.shape)"
   ]
  },
  {
   "cell_type": "code",
   "execution_count": 5,
   "id": "3b8f6658",
   "metadata": {},
   "outputs": [],
   "source": [
    "#Classification using SVM\n",
    "\n",
    "from sklearn.preprocessing import StandardScaler\n",
    "from sklearn import svm\n",
    "\n",
    "linear_svm = svm.SVC(kernel = 'linear')\n",
    "rbf_svm = svm.SVC(kernel = 'rbf')\n",
    "poly_svm = svm.SVC(kernel = 'poly')"
   ]
  },
  {
   "cell_type": "code",
   "execution_count": 6,
   "id": "2bb022f6",
   "metadata": {},
   "outputs": [
    {
     "data": {
      "text/plain": [
       "SVC(kernel='poly')"
      ]
     },
     "execution_count": 6,
     "metadata": {},
     "output_type": "execute_result"
    }
   ],
   "source": [
    "linear_svm.fit(x_train,y_train)\n",
    "rbf_svm.fit(x_train,y_train)\n",
    "poly_svm.fit(x_train,y_train)"
   ]
  },
  {
   "cell_type": "code",
   "execution_count": 7,
   "id": "07629310",
   "metadata": {},
   "outputs": [],
   "source": [
    "y_pred_linear = linear_svm.predict(x_test)\n",
    "y_pred_rbf = rbf_svm.predict(x_test)\n",
    "y_pred_poly = poly_svm.predict(x_test)"
   ]
  },
  {
   "cell_type": "code",
   "execution_count": 8,
   "id": "23653659",
   "metadata": {},
   "outputs": [],
   "source": [
    "def accuracy_fn(y_pred,y_test):\n",
    "    accuracy = 0\n",
    "    for i in range(len(y_pred)):\n",
    "        if y_pred[i]==y_test[i]:\n",
    "            accuracy  = accuracy + 1\n",
    "    \n",
    "    return accuracy/len(y_pred)\n",
    "\n",
    "accuracy_linear = accuracy_fn(y_pred_linear,y_test)\n",
    "accuracy_rbf = accuracy_fn(y_pred_rbf,y_test)\n",
    "accuracy_poly = accuracy_fn(y_pred_poly,y_test)accuracy_linear = accuracy_fn(y_pred_linear,y_test)\n",
    "accuracy_rbf = accuracy_fn(y_pred_rbf,y_test)\n",
    "accuracy_poly = accuracy_fn(y_pred_poly,y_test)"
   ]
  },
  {
   "cell_type": "code",
   "execution_count": 9,
   "id": "9d9b8f32",
   "metadata": {},
   "outputs": [
    {
     "name": "stdout",
     "output_type": "stream",
     "text": [
      "Linear Kernel accuracy:  0.9839653155323103\n",
      "Rbf kernel accuracy:  0.9810749432248297\n",
      "Polynomial kernel accuracy:  0.9051682609593283\n"
     ]
    }
   ],
   "source": [
    "print(\"Linear Kernel accuracy: \",accuracy_linear)\n",
    "print(\"Rbf kernel accuracy: \",accuracy_rbf)\n",
    "print(\"Polynomial kernel accuracy: \",accuracy_poly)"
   ]
  },
  {
   "cell_type": "code",
   "execution_count": 10,
   "id": "54fd9412",
   "metadata": {},
   "outputs": [],
   "source": [
    "from sklearn.metrics import confusion_matrix\n",
    "from sklearn.metrics import classification_report"
   ]
  },
  {
   "cell_type": "code",
   "execution_count": 11,
   "id": "b96611f5",
   "metadata": {},
   "outputs": [
    {
     "name": "stdout",
     "output_type": "stream",
     "text": [
      "[[10860     5]\n",
      " [  228  3438]]\n"
     ]
    }
   ],
   "source": [
    "confusion_mat = confusion_matrix(y_test,y_pred_linear)\n",
    "print(confusion_mat)"
   ]
  },
  {
   "cell_type": "code",
   "execution_count": 12,
   "id": "2d0cd4be",
   "metadata": {},
   "outputs": [
    {
     "name": "stdout",
     "output_type": "stream",
     "text": [
      "              precision    recall  f1-score   support\n",
      "\n",
      "           0       0.98      1.00      0.99     10865\n",
      "           1       1.00      0.94      0.97      3666\n",
      "\n",
      "    accuracy                           0.98     14531\n",
      "   macro avg       0.99      0.97      0.98     14531\n",
      "weighted avg       0.98      0.98      0.98     14531\n",
      "\n"
     ]
    }
   ],
   "source": [
    "classification_repo = classification_report(y_test,y_pred_linear)\n",
    "print(classification_repo)"
   ]
  },
  {
   "cell_type": "code",
   "execution_count": 13,
   "id": "c14981d6",
   "metadata": {},
   "outputs": [
    {
     "name": "stdout",
     "output_type": "stream",
     "text": [
      "Accuracy using SVM 0.9839653155323103\n"
     ]
    }
   ],
   "source": [
    "accuracy_svm = max(max(accuracy_linear,accuracy_rbf),accuracy_poly)\n",
    "print(\"Accuracy using SVM\",accuracy_svm)"
   ]
  },
  {
   "cell_type": "code",
   "execution_count": null,
   "id": "07e021bd",
   "metadata": {},
   "outputs": [],
   "source": [
    "from sklearn.preprocessing import StandardScaler\n",
    "from sklearn import svm\n",
    "\n",
    "linear_svm = svm.SVC(kernel = 'linear')\n",
    "rbf_svm = svm.SVC(kernel = 'rbf')\n",
    "poly_svm = svm.SVC(kernel = 'poly')\n",
    "\n",
    "linear_svm.fit(x_train,y_train)\n",
    "rbf_svm.fit(x_train,y_train)\n",
    "poly_svm.fit(x_train,y_train)\n",
    "\n",
    "y_pred_linear = linear_svm.predict(x_test)\n",
    "y_pred_rbf = rbf_svm.predict(x_test)\n",
    "y_pred_poly = poly_svm.predict(x_test)\n",
    "\n",
    "accuracy_linear = accuracy_fn(y_pred_linear,y_test)\n",
    "accuracy_rbf = accuracy_fn(y_pred_rbf,y_test)\n",
    "accuracy_poly = accuracy_fn(y_pred_poly,y_test)"
   ]
  }
 ],
 "metadata": {
  "kernelspec": {
   "display_name": "Python 3",
   "language": "python",
   "name": "python3"
  },
  "language_info": {
   "codemirror_mode": {
    "name": "ipython",
    "version": 3
   },
   "file_extension": ".py",
   "mimetype": "text/x-python",
   "name": "python",
   "nbconvert_exporter": "python",
   "pygments_lexer": "ipython3",
   "version": "3.8.8"
  }
 },
 "nbformat": 4,
 "nbformat_minor": 5
}
