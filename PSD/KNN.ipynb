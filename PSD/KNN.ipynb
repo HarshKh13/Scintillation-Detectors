{
 "cells": [
  {
   "cell_type": "code",
   "execution_count": 1,
   "id": "ece7b8d8",
   "metadata": {},
   "outputs": [],
   "source": [
    "import numpy as np\n",
    "import matplotlib.pyplot as plt\n",
    "import pandas as pd\n",
    "from sklearn.preprocessing import StandardScaler\n",
    "from sklearn.model_selection import train_test_split"
   ]
  },
  {
   "cell_type": "code",
   "execution_count": 2,
   "id": "e4cb855b",
   "metadata": {},
   "outputs": [
    {
     "data": {
      "text/html": [
       "<div>\n",
       "<style scoped>\n",
       "    .dataframe tbody tr th:only-of-type {\n",
       "        vertical-align: middle;\n",
       "    }\n",
       "\n",
       "    .dataframe tbody tr th {\n",
       "        vertical-align: top;\n",
       "    }\n",
       "\n",
       "    .dataframe thead th {\n",
       "        text-align: right;\n",
       "    }\n",
       "</style>\n",
       "<table border=\"1\" class=\"dataframe\">\n",
       "  <thead>\n",
       "    <tr style=\"text-align: right;\">\n",
       "      <th></th>\n",
       "      <th>PulseNo</th>\n",
       "      <th>TotalArea</th>\n",
       "      <th>TailArea</th>\n",
       "      <th>Classification</th>\n",
       "    </tr>\n",
       "  </thead>\n",
       "  <tbody>\n",
       "    <tr>\n",
       "      <th>0</th>\n",
       "      <td>1</td>\n",
       "      <td>7616</td>\n",
       "      <td>4568</td>\n",
       "      <td>Neutron</td>\n",
       "    </tr>\n",
       "    <tr>\n",
       "      <th>1</th>\n",
       "      <td>2</td>\n",
       "      <td>7616</td>\n",
       "      <td>4584</td>\n",
       "      <td>Neutron</td>\n",
       "    </tr>\n",
       "    <tr>\n",
       "      <th>2</th>\n",
       "      <td>3</td>\n",
       "      <td>7616</td>\n",
       "      <td>4860</td>\n",
       "      <td>Neutron</td>\n",
       "    </tr>\n",
       "    <tr>\n",
       "      <th>3</th>\n",
       "      <td>4</td>\n",
       "      <td>7616</td>\n",
       "      <td>4548</td>\n",
       "      <td>Neutron</td>\n",
       "    </tr>\n",
       "    <tr>\n",
       "      <th>4</th>\n",
       "      <td>5</td>\n",
       "      <td>7616</td>\n",
       "      <td>4344</td>\n",
       "      <td>Neutron</td>\n",
       "    </tr>\n",
       "  </tbody>\n",
       "</table>\n",
       "</div>"
      ],
      "text/plain": [
       "   PulseNo  TotalArea  TailArea Classification\n",
       "0        1       7616      4568        Neutron\n",
       "1        2       7616      4584        Neutron\n",
       "2        3       7616      4860        Neutron\n",
       "3        4       7616      4548        Neutron\n",
       "4        5       7616      4344        Neutron"
      ]
     },
     "execution_count": 2,
     "metadata": {},
     "output_type": "execute_result"
    }
   ],
   "source": [
    "path = 'traindats.csv'\n",
    "data = pd.read_csv(path)\n",
    "data.head()"
   ]
  },
  {
   "cell_type": "code",
   "execution_count": 3,
   "id": "d3c1d1d6",
   "metadata": {},
   "outputs": [
    {
     "data": {
      "text/html": [
       "<div>\n",
       "<style scoped>\n",
       "    .dataframe tbody tr th:only-of-type {\n",
       "        vertical-align: middle;\n",
       "    }\n",
       "\n",
       "    .dataframe tbody tr th {\n",
       "        vertical-align: top;\n",
       "    }\n",
       "\n",
       "    .dataframe thead th {\n",
       "        text-align: right;\n",
       "    }\n",
       "</style>\n",
       "<table border=\"1\" class=\"dataframe\">\n",
       "  <thead>\n",
       "    <tr style=\"text-align: right;\">\n",
       "      <th></th>\n",
       "      <th>PulseNo</th>\n",
       "      <th>TotalArea</th>\n",
       "      <th>TailArea</th>\n",
       "      <th>Classification_encod</th>\n",
       "    </tr>\n",
       "  </thead>\n",
       "  <tbody>\n",
       "    <tr>\n",
       "      <th>0</th>\n",
       "      <td>1</td>\n",
       "      <td>7616</td>\n",
       "      <td>4568</td>\n",
       "      <td>1</td>\n",
       "    </tr>\n",
       "    <tr>\n",
       "      <th>1</th>\n",
       "      <td>2</td>\n",
       "      <td>7616</td>\n",
       "      <td>4584</td>\n",
       "      <td>1</td>\n",
       "    </tr>\n",
       "    <tr>\n",
       "      <th>2</th>\n",
       "      <td>3</td>\n",
       "      <td>7616</td>\n",
       "      <td>4860</td>\n",
       "      <td>1</td>\n",
       "    </tr>\n",
       "    <tr>\n",
       "      <th>3</th>\n",
       "      <td>4</td>\n",
       "      <td>7616</td>\n",
       "      <td>4548</td>\n",
       "      <td>1</td>\n",
       "    </tr>\n",
       "    <tr>\n",
       "      <th>4</th>\n",
       "      <td>5</td>\n",
       "      <td>7616</td>\n",
       "      <td>4344</td>\n",
       "      <td>1</td>\n",
       "    </tr>\n",
       "  </tbody>\n",
       "</table>\n",
       "</div>"
      ],
      "text/plain": [
       "   PulseNo  TotalArea  TailArea  Classification_encod\n",
       "0        1       7616      4568                     1\n",
       "1        2       7616      4584                     1\n",
       "2        3       7616      4860                     1\n",
       "3        4       7616      4548                     1\n",
       "4        5       7616      4344                     1"
      ]
     },
     "execution_count": 3,
     "metadata": {},
     "output_type": "execute_result"
    }
   ],
   "source": [
    "from sklearn.preprocessing import LabelEncoder\n",
    "lab_encod = LabelEncoder()\n",
    "data['Classification_encod'] = lab_encod.fit_transform(data['Classification'])\n",
    "data = data.drop(['Classification'],axis = 'columns')\n",
    "data.head()"
   ]
  },
  {
   "cell_type": "code",
   "execution_count": 4,
   "id": "d8c23b69",
   "metadata": {},
   "outputs": [
    {
     "name": "stdout",
     "output_type": "stream",
     "text": [
      "Training data shape (43590, 2)\n",
      "Test data shape (14531, 2)\n"
     ]
    }
   ],
   "source": [
    "x = data.iloc[:,1:]\n",
    "x = x.drop(['Classification_encod'],axis = 'columns')\n",
    "y = data.iloc[:,-1]\n",
    "scaler = StandardScaler()\n",
    "x = scaler.fit_transform(x)\n",
    "x = pd.DataFrame(x,columns = ['TotalArea','TailArea'])\n",
    "x = x.values\n",
    "y = y.values\n",
    "\n",
    "x_train,x_test,y_train,y_test = train_test_split(x,y,test_size = 0.25,\n",
    "                                                 random_state = 42)\n",
    "print(\"Training data shape\",x_train.shape)\n",
    "print(\"Test data shape\",x_test.shape)"
   ]
  },
  {
   "cell_type": "code",
   "execution_count": 5,
   "id": "55235924",
   "metadata": {},
   "outputs": [
    {
     "name": "stdout",
     "output_type": "stream",
     "text": [
      "Accuracy 0.9941504369967655\n"
     ]
    }
   ],
   "source": [
    "#Classification using KNN\n",
    "\n",
    "from sklearn.neighbors import KNeighborsClassifier\n",
    "knn = KNeighborsClassifier(n_neighbors = 7)\n",
    "knn.fit(x_train,y_train)\n",
    "accuracy_score = knn.score(x_test,y_test)\n",
    "print(\"Accuracy\",accuracy_score)"
   ]
  },
  {
   "cell_type": "code",
   "execution_count": 6,
   "id": "5f30f867",
   "metadata": {},
   "outputs": [],
   "source": [
    "#Finding the best k value\n",
    "nearest_neighbours = np.arange(1,20)\n",
    "train_accuracy = np.empty(len(nearest_neighbours))\n",
    "test_accuracy = np.empty(len(nearest_neighbours))"
   ]
  },
  {
   "cell_type": "code",
   "execution_count": 7,
   "id": "b9bcc2a2",
   "metadata": {},
   "outputs": [],
   "source": [
    "for i,k in enumerate(nearest_neighbours):\n",
    "    knn = KNeighborsClassifier(n_neighbors = k)\n",
    "    knn.fit(x_train,y_train)\n",
    "    \n",
    "    temp_train_acc = knn.score(x_train,y_train)\n",
    "    temp_test_acc = knn.score(x_test,y_test)\n",
    "    train_accuracy[i] = temp_train_acc\n",
    "    test_accuracy[i] = temp_test_acc"
   ]
  },
  {
   "cell_type": "code",
   "execution_count": 8,
   "id": "0a1b8276",
   "metadata": {},
   "outputs": [
    {
     "name": "stdout",
     "output_type": "stream",
     "text": [
      "[1.         0.99738472 0.99766001 0.99704061 0.99722413 0.99628355\n",
      " 0.99674237 0.99610002 0.99575591 0.99554944 0.99632943 0.99536591\n",
      " 0.99580179 0.99511356 0.99577885 0.99520532 0.99554944 0.99504474\n",
      " 0.99548061]\n",
      "[0.99649026 0.99545799 0.99518271 0.99497626 0.99470098 0.99353107\n",
      " 0.99415044 0.99353107 0.99366871 0.99353107 0.99408162 0.99346225\n",
      " 0.9940128  0.99304934 0.99332462 0.9932558  0.99373753 0.99318698\n",
      " 0.99332462]\n"
     ]
    }
   ],
   "source": [
    "print(train_accuracy)\n",
    "print(test_accuracy)"
   ]
  },
  {
   "cell_type": "code",
   "execution_count": 9,
   "id": "f8a5ea9d",
   "metadata": {},
   "outputs": [
    {
     "data": {
      "image/png": "[encoded data removed]",
      "text/plain": [
       "<Figure size 432x288 with 1 Axes>"
      ]
     },
     "metadata": {
      "needs_background": "light"
     },
     "output_type": "display_data"
    }
   ],
   "source": [
    "plt.plot(nearest_neighbours,train_accuracy,label = 'Training data accuracy')\n",
    "plt.plot(nearest_neighbours,test_accuracy,label = 'Test data accuracy')\n",
    "plt.legend()\n",
    "plt.xlabel('num_neighbours')\n",
    "plt.ylabel('Accuracy')\n",
    "plt.title('Find best number of nearest neighbours')\n",
    "plt.show()"
   ]
  },
  {
   "cell_type": "code",
   "execution_count": 10,
   "id": "f50b5b13",
   "metadata": {},
   "outputs": [],
   "source": [
    "best_nearest_neighbors = 3\n",
    "knn_best = KNeighborsClassifier(n_neighbors = best_nearest_neighbors)\n",
    "knn_best.fit(x_train,y_train)\n",
    "accuracy_knn = knn_best.score(x_test,y_test)\n",
    "y_pred = knn_best.predict(x_test)"
   ]
  },
  {
   "cell_type": "code",
   "execution_count": 11,
   "id": "a836fc75",
   "metadata": {},
   "outputs": [],
   "source": [
    "from sklearn.metrics import confusion_matrix\n",
    "from sklearn.metrics import classification_report"
   ]
  },
  {
   "cell_type": "code",
   "execution_count": 12,
   "id": "4f58aeda",
   "metadata": {},
   "outputs": [
    {
     "name": "stdout",
     "output_type": "stream",
     "text": [
      "[[10826    39]\n",
      " [   31  3635]]\n"
     ]
    }
   ],
   "source": [
    "confusion_mat = confusion_matrix(y_test,y_pred)\n",
    "print(confusion_mat)"
   ]
  },
  {
   "cell_type": "code",
   "execution_count": 13,
   "id": "5a2d2cbf",
   "metadata": {},
   "outputs": [
    {
     "name": "stdout",
     "output_type": "stream",
     "text": [
      "              precision    recall  f1-score   support\n",
      "\n",
      "           0       1.00      1.00      1.00     10865\n",
      "           1       0.99      0.99      0.99      3666\n",
      "\n",
      "    accuracy                           1.00     14531\n",
      "   macro avg       0.99      0.99      0.99     14531\n",
      "weighted avg       1.00      1.00      1.00     14531\n",
      "\n"
     ]
    }
   ],
   "source": [
    "classification_repo = classification_report(y_test,y_pred)\n",
    "print(classification_repo)"
   ]
  },
  {
   "cell_type": "code",
   "execution_count": 14,
   "id": "36ee5d31",
   "metadata": {},
   "outputs": [
    {
     "name": "stdout",
     "output_type": "stream",
     "text": [
      "Accuracy using K Nearest Neighbors 0.9951827128208658\n"
     ]
    }
   ],
   "source": [
    "print(\"Accuracy using K Nearest Neighbors\",accuracy_knn)"
   ]
  }
 ],
 "metadata": {
  "kernelspec": {
   "display_name": "Python 3",
   "language": "python",
   "name": "python3"
  },
  "language_info": {
   "codemirror_mode": {
    "name": "ipython",
    "version": 3
   },
   "file_extension": ".py",
   "mimetype": "text/x-python",
   "name": "python",
   "nbconvert_exporter": "python",
   "pygments_lexer": "ipython3",
   "version": "3.8.8"
  }
 },
 "nbformat": 4,
 "nbformat_minor": 5
}
